{
 "cells": [
  {
   "cell_type": "code",
   "execution_count": 25,
   "id": "67226535-7789-4d3e-aa45-e8cad968ef2b",
   "metadata": {},
   "outputs": [],
   "source": [
    "import numpy as np\n",
    "import pandas as pd\n",
    "import matplotlib.pyplot as plt\n",
    "import seaborn as sns"
   ]
  },
  {
   "cell_type": "code",
   "execution_count": 27,
   "id": "08800022-0595-4398-9dad-979a70984976",
   "metadata": {},
   "outputs": [
    {
     "data": {
      "text/html": [
       "<div>\n",
       "<style scoped>\n",
       "    .dataframe tbody tr th:only-of-type {\n",
       "        vertical-align: middle;\n",
       "    }\n",
       "\n",
       "    .dataframe tbody tr th {\n",
       "        vertical-align: top;\n",
       "    }\n",
       "\n",
       "    .dataframe thead th {\n",
       "        text-align: right;\n",
       "    }\n",
       "</style>\n",
       "<table border=\"1\" class=\"dataframe\">\n",
       "  <thead>\n",
       "    <tr style=\"text-align: right;\">\n",
       "      <th></th>\n",
       "      <th>Brand</th>\n",
       "      <th>Resolution</th>\n",
       "      <th>Size</th>\n",
       "      <th>Selling Price</th>\n",
       "      <th>Original Price</th>\n",
       "      <th>Operating System</th>\n",
       "      <th>Rating</th>\n",
       "    </tr>\n",
       "  </thead>\n",
       "  <tbody>\n",
       "    <tr>\n",
       "      <th>0</th>\n",
       "      <td>TOSHIBA</td>\n",
       "      <td>Ultra HD LED</td>\n",
       "      <td>55</td>\n",
       "      <td>37999</td>\n",
       "      <td>54990</td>\n",
       "      <td>VIDAA</td>\n",
       "      <td>4.3</td>\n",
       "    </tr>\n",
       "    <tr>\n",
       "      <th>1</th>\n",
       "      <td>TCL</td>\n",
       "      <td>QLED Ultra HD</td>\n",
       "      <td>55</td>\n",
       "      <td>52999</td>\n",
       "      <td>129990</td>\n",
       "      <td>Android</td>\n",
       "      <td>4.4</td>\n",
       "    </tr>\n",
       "    <tr>\n",
       "      <th>2</th>\n",
       "      <td>realme</td>\n",
       "      <td>HD LED</td>\n",
       "      <td>32</td>\n",
       "      <td>13999</td>\n",
       "      <td>17999</td>\n",
       "      <td>Android</td>\n",
       "      <td>4.3</td>\n",
       "    </tr>\n",
       "    <tr>\n",
       "      <th>3</th>\n",
       "      <td>Mi</td>\n",
       "      <td>HD LED</td>\n",
       "      <td>32</td>\n",
       "      <td>14999</td>\n",
       "      <td>19999</td>\n",
       "      <td>Android</td>\n",
       "      <td>4.4</td>\n",
       "    </tr>\n",
       "    <tr>\n",
       "      <th>4</th>\n",
       "      <td>realme</td>\n",
       "      <td>HD LED</td>\n",
       "      <td>32</td>\n",
       "      <td>12999</td>\n",
       "      <td>21999</td>\n",
       "      <td>Android</td>\n",
       "      <td>4.3</td>\n",
       "    </tr>\n",
       "    <tr>\n",
       "      <th>...</th>\n",
       "      <td>...</td>\n",
       "      <td>...</td>\n",
       "      <td>...</td>\n",
       "      <td>...</td>\n",
       "      <td>...</td>\n",
       "      <td>...</td>\n",
       "      <td>...</td>\n",
       "    </tr>\n",
       "    <tr>\n",
       "      <th>907</th>\n",
       "      <td>SONY</td>\n",
       "      <td>Full HD LED</td>\n",
       "      <td>43</td>\n",
       "      <td>44999</td>\n",
       "      <td>57900</td>\n",
       "      <td>Linux</td>\n",
       "      <td>4.4</td>\n",
       "    </tr>\n",
       "    <tr>\n",
       "      <th>908</th>\n",
       "      <td>SONY</td>\n",
       "      <td>Full HD LED</td>\n",
       "      <td>40</td>\n",
       "      <td>41499</td>\n",
       "      <td>51900</td>\n",
       "      <td>Linux</td>\n",
       "      <td>4.6</td>\n",
       "    </tr>\n",
       "    <tr>\n",
       "      <th>909</th>\n",
       "      <td>SONY</td>\n",
       "      <td>Ultra HD LED</td>\n",
       "      <td>65</td>\n",
       "      <td>149990</td>\n",
       "      <td>184990</td>\n",
       "      <td>Linux</td>\n",
       "      <td>4.3</td>\n",
       "    </tr>\n",
       "    <tr>\n",
       "      <th>910</th>\n",
       "      <td>SONY</td>\n",
       "      <td>HD LED</td>\n",
       "      <td>32</td>\n",
       "      <td>32900</td>\n",
       "      <td>32900</td>\n",
       "      <td>Linux</td>\n",
       "      <td>4.4</td>\n",
       "    </tr>\n",
       "    <tr>\n",
       "      <th>911</th>\n",
       "      <td>SONY</td>\n",
       "      <td>Full HD LED</td>\n",
       "      <td>43</td>\n",
       "      <td>56900</td>\n",
       "      <td>56900</td>\n",
       "      <td>Linux</td>\n",
       "      <td>4.6</td>\n",
       "    </tr>\n",
       "  </tbody>\n",
       "</table>\n",
       "<p>912 rows × 7 columns</p>\n",
       "</div>"
      ],
      "text/plain": [
       "       Brand     Resolution  Size   Selling Price  Original Price  \\\n",
       "0    TOSHIBA   Ultra HD LED     55          37999           54990   \n",
       "1       TCL   QLED Ultra HD     55          52999          129990   \n",
       "2    realme          HD LED     32          13999           17999   \n",
       "3        Mi          HD LED     32          14999           19999   \n",
       "4    realme          HD LED     32          12999           21999   \n",
       "..       ...            ...    ...            ...             ...   \n",
       "907    SONY     Full HD LED     43          44999           57900   \n",
       "908    SONY     Full HD LED     40          41499           51900   \n",
       "909    SONY    Ultra HD LED     65         149990          184990   \n",
       "910    SONY          HD LED     32          32900           32900   \n",
       "911    SONY     Full HD LED     43          56900           56900   \n",
       "\n",
       "    Operating System  Rating  \n",
       "0              VIDAA     4.3  \n",
       "1            Android     4.4  \n",
       "2            Android     4.3  \n",
       "3            Android     4.4  \n",
       "4            Android     4.3  \n",
       "..               ...     ...  \n",
       "907            Linux     4.4  \n",
       "908            Linux     4.6  \n",
       "909            Linux     4.3  \n",
       "910            Linux     4.4  \n",
       "911            Linux     4.6  \n",
       "\n",
       "[912 rows x 7 columns]"
      ]
     },
     "execution_count": 27,
     "metadata": {},
     "output_type": "execute_result"
    }
   ],
   "source": [
    "df = pd.read_csv(\"D:\\Downloads\\TV_Final.csv\")\n",
    "df"
   ]
  },
  {
   "cell_type": "code",
   "execution_count": 28,
   "id": "8f42684c-1ded-4f0d-9106-45ed2f0f089d",
   "metadata": {},
   "outputs": [
    {
     "data": {
      "text/html": [
       "<div>\n",
       "<style scoped>\n",
       "    .dataframe tbody tr th:only-of-type {\n",
       "        vertical-align: middle;\n",
       "    }\n",
       "\n",
       "    .dataframe tbody tr th {\n",
       "        vertical-align: top;\n",
       "    }\n",
       "\n",
       "    .dataframe thead th {\n",
       "        text-align: right;\n",
       "    }\n",
       "</style>\n",
       "<table border=\"1\" class=\"dataframe\">\n",
       "  <thead>\n",
       "    <tr style=\"text-align: right;\">\n",
       "      <th></th>\n",
       "      <th>Brand</th>\n",
       "      <th>Resolution</th>\n",
       "      <th>Size</th>\n",
       "      <th>Selling Price</th>\n",
       "      <th>Original Price</th>\n",
       "      <th>Operating System</th>\n",
       "      <th>Rating</th>\n",
       "    </tr>\n",
       "  </thead>\n",
       "  <tbody>\n",
       "    <tr>\n",
       "      <th>0</th>\n",
       "      <td>TOSHIBA</td>\n",
       "      <td>Ultra HD LED</td>\n",
       "      <td>55</td>\n",
       "      <td>37999</td>\n",
       "      <td>54990</td>\n",
       "      <td>VIDAA</td>\n",
       "      <td>4.3</td>\n",
       "    </tr>\n",
       "    <tr>\n",
       "      <th>1</th>\n",
       "      <td>TCL</td>\n",
       "      <td>QLED Ultra HD</td>\n",
       "      <td>55</td>\n",
       "      <td>52999</td>\n",
       "      <td>129990</td>\n",
       "      <td>Android</td>\n",
       "      <td>4.4</td>\n",
       "    </tr>\n",
       "    <tr>\n",
       "      <th>2</th>\n",
       "      <td>realme</td>\n",
       "      <td>HD LED</td>\n",
       "      <td>32</td>\n",
       "      <td>13999</td>\n",
       "      <td>17999</td>\n",
       "      <td>Android</td>\n",
       "      <td>4.3</td>\n",
       "    </tr>\n",
       "    <tr>\n",
       "      <th>3</th>\n",
       "      <td>Mi</td>\n",
       "      <td>HD LED</td>\n",
       "      <td>32</td>\n",
       "      <td>14999</td>\n",
       "      <td>19999</td>\n",
       "      <td>Android</td>\n",
       "      <td>4.4</td>\n",
       "    </tr>\n",
       "    <tr>\n",
       "      <th>4</th>\n",
       "      <td>realme</td>\n",
       "      <td>HD LED</td>\n",
       "      <td>32</td>\n",
       "      <td>12999</td>\n",
       "      <td>21999</td>\n",
       "      <td>Android</td>\n",
       "      <td>4.3</td>\n",
       "    </tr>\n",
       "  </tbody>\n",
       "</table>\n",
       "</div>"
      ],
      "text/plain": [
       "     Brand     Resolution  Size   Selling Price  Original Price  \\\n",
       "0  TOSHIBA   Ultra HD LED     55          37999           54990   \n",
       "1     TCL   QLED Ultra HD     55          52999          129990   \n",
       "2  realme          HD LED     32          13999           17999   \n",
       "3      Mi          HD LED     32          14999           19999   \n",
       "4  realme          HD LED     32          12999           21999   \n",
       "\n",
       "  Operating System  Rating  \n",
       "0            VIDAA     4.3  \n",
       "1          Android     4.4  \n",
       "2          Android     4.3  \n",
       "3          Android     4.4  \n",
       "4          Android     4.3  "
      ]
     },
     "execution_count": 28,
     "metadata": {},
     "output_type": "execute_result"
    }
   ],
   "source": [
    "df.head()"
   ]
  },
  {
   "cell_type": "code",
   "execution_count": 29,
   "id": "27489a47-de21-48b6-8840-df8602086094",
   "metadata": {},
   "outputs": [
    {
     "data": {
      "text/html": [
       "<div>\n",
       "<style scoped>\n",
       "    .dataframe tbody tr th:only-of-type {\n",
       "        vertical-align: middle;\n",
       "    }\n",
       "\n",
       "    .dataframe tbody tr th {\n",
       "        vertical-align: top;\n",
       "    }\n",
       "\n",
       "    .dataframe thead th {\n",
       "        text-align: right;\n",
       "    }\n",
       "</style>\n",
       "<table border=\"1\" class=\"dataframe\">\n",
       "  <thead>\n",
       "    <tr style=\"text-align: right;\">\n",
       "      <th></th>\n",
       "      <th>Brand</th>\n",
       "      <th>Resolution</th>\n",
       "      <th>Size</th>\n",
       "      <th>Selling Price</th>\n",
       "      <th>Original Price</th>\n",
       "      <th>Operating System</th>\n",
       "      <th>Rating</th>\n",
       "    </tr>\n",
       "  </thead>\n",
       "  <tbody>\n",
       "    <tr>\n",
       "      <th>907</th>\n",
       "      <td>SONY</td>\n",
       "      <td>Full HD LED</td>\n",
       "      <td>43</td>\n",
       "      <td>44999</td>\n",
       "      <td>57900</td>\n",
       "      <td>Linux</td>\n",
       "      <td>4.4</td>\n",
       "    </tr>\n",
       "    <tr>\n",
       "      <th>908</th>\n",
       "      <td>SONY</td>\n",
       "      <td>Full HD LED</td>\n",
       "      <td>40</td>\n",
       "      <td>41499</td>\n",
       "      <td>51900</td>\n",
       "      <td>Linux</td>\n",
       "      <td>4.6</td>\n",
       "    </tr>\n",
       "    <tr>\n",
       "      <th>909</th>\n",
       "      <td>SONY</td>\n",
       "      <td>Ultra HD LED</td>\n",
       "      <td>65</td>\n",
       "      <td>149990</td>\n",
       "      <td>184990</td>\n",
       "      <td>Linux</td>\n",
       "      <td>4.3</td>\n",
       "    </tr>\n",
       "    <tr>\n",
       "      <th>910</th>\n",
       "      <td>SONY</td>\n",
       "      <td>HD LED</td>\n",
       "      <td>32</td>\n",
       "      <td>32900</td>\n",
       "      <td>32900</td>\n",
       "      <td>Linux</td>\n",
       "      <td>4.4</td>\n",
       "    </tr>\n",
       "    <tr>\n",
       "      <th>911</th>\n",
       "      <td>SONY</td>\n",
       "      <td>Full HD LED</td>\n",
       "      <td>43</td>\n",
       "      <td>56900</td>\n",
       "      <td>56900</td>\n",
       "      <td>Linux</td>\n",
       "      <td>4.6</td>\n",
       "    </tr>\n",
       "  </tbody>\n",
       "</table>\n",
       "</div>"
      ],
      "text/plain": [
       "     Brand    Resolution  Size   Selling Price  Original Price  \\\n",
       "907  SONY    Full HD LED     43          44999           57900   \n",
       "908  SONY    Full HD LED     40          41499           51900   \n",
       "909  SONY   Ultra HD LED     65         149990          184990   \n",
       "910  SONY         HD LED     32          32900           32900   \n",
       "911  SONY    Full HD LED     43          56900           56900   \n",
       "\n",
       "    Operating System  Rating  \n",
       "907            Linux     4.4  \n",
       "908            Linux     4.6  \n",
       "909            Linux     4.3  \n",
       "910            Linux     4.4  \n",
       "911            Linux     4.6  "
      ]
     },
     "execution_count": 29,
     "metadata": {},
     "output_type": "execute_result"
    }
   ],
   "source": [
    "df.tail()"
   ]
  },
  {
   "cell_type": "code",
   "execution_count": 30,
   "id": "8e439d83-1d17-4e3e-b910-f5fa82a1fb6c",
   "metadata": {},
   "outputs": [
    {
     "data": {
      "text/plain": [
       "(912, 7)"
      ]
     },
     "execution_count": 30,
     "metadata": {},
     "output_type": "execute_result"
    }
   ],
   "source": [
    "df.shape"
   ]
  },
  {
   "cell_type": "code",
   "execution_count": 36,
   "id": "e18fdb70-56f9-479f-a139-c7d94080c2dd",
   "metadata": {},
   "outputs": [],
   "source": [
    "df['Brand']=df['Brand'].replace(['Samsung'],'SAMSUNG')"
   ]
  },
  {
   "cell_type": "code",
   "execution_count": 32,
   "id": "246cacf0-58b2-4613-b214-dc83bada25d5",
   "metadata": {},
   "outputs": [
    {
     "data": {
      "text/plain": [
       "Brand                object\n",
       "Resolution           object\n",
       "Size                  int64\n",
       "Selling Price         int64\n",
       "Original Price        int64\n",
       "Operating System     object\n",
       "Rating              float64\n",
       "dtype: object"
      ]
     },
     "execution_count": 32,
     "metadata": {},
     "output_type": "execute_result"
    }
   ],
   "source": [
    "df.dtypes"
   ]
  },
  {
   "cell_type": "code",
   "execution_count": 34,
   "id": "a4163ba4-28c1-4f68-b4f2-4f1c72e49031",
   "metadata": {},
   "outputs": [
    {
     "data": {
      "text/plain": [
       "Brand                58\n",
       "Resolution            5\n",
       "Size                 27\n",
       "Selling Price       515\n",
       "Original Price      455\n",
       "Operating System      7\n",
       "Rating               25\n",
       "dtype: int64"
      ]
     },
     "execution_count": 34,
     "metadata": {},
     "output_type": "execute_result"
    }
   ],
   "source": [
    "df.nunique()"
   ]
  },
  {
   "cell_type": "code",
   "execution_count": 37,
   "id": "c9c6a287-40ae-4938-9ec6-85b46df874cc",
   "metadata": {},
   "outputs": [
    {
     "data": {
      "text/plain": [
       "58"
      ]
     },
     "execution_count": 37,
     "metadata": {},
     "output_type": "execute_result"
    }
   ],
   "source": [
    "df['Brand'].nunique()"
   ]
  },
  {
   "cell_type": "code",
   "execution_count": 38,
   "id": "66e764f0-7e9e-4592-b6fd-76ee5d9552e1",
   "metadata": {},
   "outputs": [
    {
     "data": {
      "text/plain": [
       "array(['Ultra HD LED', 'QLED Ultra HD', 'HD LED', 'Full HD LED',\n",
       "       'HD Plasma'], dtype=object)"
      ]
     },
     "execution_count": 38,
     "metadata": {},
     "output_type": "execute_result"
    }
   ],
   "source": [
    "df['Resolution'].unique()"
   ]
  },
  {
   "cell_type": "code",
   "execution_count": 39,
   "id": "4807bef4-880e-4228-ac75-59f4ffce058f",
   "metadata": {},
   "outputs": [
    {
     "data": {
      "text/plain": [
       "array(['VIDAA', 'Android', 'Linux', nan, 'Tizen', 'WebOS', 'HomeOS',\n",
       "       'FireTV OS'], dtype=object)"
      ]
     },
     "execution_count": 39,
     "metadata": {},
     "output_type": "execute_result"
    }
   ],
   "source": [
    "df['Operating System'].unique()"
   ]
  },
  {
   "cell_type": "code",
   "execution_count": 40,
   "id": "c902d39e-04b0-4a8d-8efd-a87c68fb2af2",
   "metadata": {},
   "outputs": [
    {
     "data": {
      "text/plain": [
       "Brand                 0\n",
       "Resolution            0\n",
       "Size                  0\n",
       "Selling Price         0\n",
       "Original Price        0\n",
       "Operating System     11\n",
       "Rating              220\n",
       "dtype: int64"
      ]
     },
     "execution_count": 40,
     "metadata": {},
     "output_type": "execute_result"
    }
   ],
   "source": [
    "df.isnull().sum()"
   ]
  },
  {
   "cell_type": "code",
   "execution_count": 41,
   "id": "307c602e-be33-4bb1-bae0-f6444fcbbd02",
   "metadata": {},
   "outputs": [
    {
     "data": {
      "image/png": "[encoded data removed]",
      "text/plain": [
       "<Figure size 600x100 with 1 Axes>"
      ]
     },
     "metadata": {},
     "output_type": "display_data"
    }
   ],
   "source": [
    "#color palette for this notebook\n",
    "colors = [\"#EF233C\",\"#eb5e28\",\"#d68c45\",\"#00bbf9\",\"#274c77\",\"#3a0ca3\"]\n",
    "palette = sns.color_palette(palette = colors)\n",
    "\n",
    "sns.palplot(palette, size =1)\n",
    "plt.show()"
   ]
  },
  {
   "cell_type": "code",
   "execution_count": 42,
   "id": "53869cbd-79b9-4619-bb8f-c4838f22867e",
   "metadata": {},
   "outputs": [
    {
     "data": {
      "text/plain": [
       "Resolution\n",
       "Ultra HD LED     399\n",
       "HD LED           229\n",
       "Full HD LED      220\n",
       "QLED Ultra HD     60\n",
       "HD Plasma          4\n",
       "Name: Brand, dtype: int64"
      ]
     },
     "execution_count": 42,
     "metadata": {},
     "output_type": "execute_result"
    }
   ],
   "source": [
    "# count of products by Resolution\n",
    "df['Brand'].groupby(df['Resolution']).count().sort_values(ascending=False)"
   ]
  },
  {
   "cell_type": "code",
   "execution_count": 43,
   "id": "1ff4ca41-4a3b-469c-9022-ca0005e32d41",
   "metadata": {},
   "outputs": [
    {
     "data": {
      "image/png": "[encoded data removed]",
      "text/plain": [
       "<Figure size 1000x600 with 1 Axes>"
      ]
     },
     "metadata": {},
     "output_type": "display_data"
    }
   ],
   "source": [
    "# Device Type distribution\n",
    "\n",
    "labels = 'Ultra HD LED', 'QLED Ultra HD', 'HD LED', 'Full HD LED','HD Plasma'\n",
    "sizes = [399,229,220,60,4]\n",
    "fig, ax = plt.subplots(figsize=(10,6))\n",
    "fig.set_facecolor('white')\n",
    "ax.pie(sizes, labels=labels, colors=[\"#EF233C\",\"#eb5e28\",\"#3a0ca3\",\"#d68c45\",\"#00bbf9\"],autopct='%1.1f%%', startangle=60,textprops={'color':'black','weight':'bold','fontsize':12.5})\n",
    "ax.axis('equal')\n",
    "plt.show()"
   ]
  },
  {
   "cell_type": "code",
   "execution_count": 44,
   "id": "a669bb06-b423-45fb-ba7a-1bd63402aedf",
   "metadata": {},
   "outputs": [
    {
     "data": {
      "text/plain": [
       "Brand\n",
       "SAMSUNG      146\n",
       "LG           122\n",
       "SONY          62\n",
       "TCL           44\n",
       "Panasonic     30\n",
       "Name: Brand, dtype: int64"
      ]
     },
     "execution_count": 44,
     "metadata": {},
     "output_type": "execute_result"
    }
   ],
   "source": [
    "#Which are the top 5 brands for TV?\n",
    "df['Brand'].groupby(df['Brand']).count().sort_values(ascending=False).iloc[:5]"
   ]
  },
  {
   "cell_type": "code",
   "execution_count": 45,
   "id": "53b55653-d01d-46a5-a7d4-764c13d6c465",
   "metadata": {},
   "outputs": [
    {
     "name": "stderr",
     "output_type": "stream",
     "text": [
      "C:\\Users\\smrut\\AppData\\Local\\Temp\\ipykernel_3796\\1362929362.py:4: UserWarning: The palette list has more values (6) than needed (5), which may not be intended.\n",
      "  sns.countplot(y=\"Brand\", hue=\"Resolution\", data=df, palette=colors,order=df[\"Brand\"].value_counts().iloc[:5].index)\n"
     ]
    },
    {
     "data": {
      "text/plain": [
       "<Axes: xlabel='count', ylabel='Brand'>"
      ]
     },
     "execution_count": 45,
     "metadata": {},
     "output_type": "execute_result"
    },
    {
     "data": {
      "image/png": "[encoded data removed]",
      "text/plain": [
       "<Figure size 1000x700 with 1 Axes>"
      ]
     },
     "metadata": {},
     "output_type": "display_data"
    }
   ],
   "source": [
    "#Brands and Resolution\n",
    "sns.set_style('white')\n",
    "plt.figure(figsize=(10,7))\n",
    "sns.countplot(y=\"Brand\", hue=\"Resolution\", data=df, palette=colors,order=df[\"Brand\"].value_counts().iloc[:5].index)"
   ]
  },
  {
   "cell_type": "code",
   "execution_count": 46,
   "id": "4945d233-0383-4d2c-aaf4-83694291ac64",
   "metadata": {},
   "outputs": [
    {
     "data": {
      "text/plain": [
       "Brand\n",
       "SONY                4.5\n",
       "OnePlus             4.4\n",
       "Hisense             4.4\n",
       "Haier               4.4\n",
       "Vu                  4.4\n",
       "TOSHIBA             4.4\n",
       "MOTOROLA            4.3\n",
       "Mi                  4.3\n",
       "Compaq              4.3\n",
       "Onida               4.3\n",
       "Thomson             4.3\n",
       "Onix                4.3\n",
       "Dektron             4.3\n",
       "KODAK               4.3\n",
       "iFFALCON by TCL     4.3\n",
       "LG                  4.3\n",
       "realme              4.3\n",
       "MarQ by Flipkart    4.3\n",
       "Nokia               4.3\n",
       "SAMSUNG             4.3\n",
       "Coocaa              4.2\n",
       "Blaupunkt           4.2\n",
       "Weston              4.2\n",
       "TCL                 4.2\n",
       "Sanyo               4.2\n",
       "Infinix             4.2\n",
       "Intex               4.2\n",
       "Panasonic           4.2\n",
       "IMPEX               4.1\n",
       "Croma               4.1\n",
       "Sansui              4.1\n",
       "Micromax            4.1\n",
       "PHILIPS             4.1\n",
       "HUIDI               4.1\n",
       "CloudWalker         4.1\n",
       "Candes              4.1\n",
       "Lloyd               4.1\n",
       "JVC                 4.0\n",
       "DETEL               4.0\n",
       "LumX                4.0\n",
       "Acer                3.9\n",
       "RGL                 3.9\n",
       "G-TEN               3.8\n",
       "T-Series            3.8\n",
       "Maser               3.8\n",
       "Adsun               3.8\n",
       "BPL                 3.7\n",
       "Dyanora             3.7\n",
       "Sharp               3.4\n",
       "AISEN               3.3\n",
       "MURPHY              3.1\n",
       "Skyworth            3.0\n",
       "Akai                NaN\n",
       "KRISONS             NaN\n",
       "Oxygen              NaN\n",
       "Power Guard         NaN\n",
       "Sun King            NaN\n",
       "VG                  NaN\n",
       "Name: Rating, dtype: float64"
      ]
     },
     "execution_count": 46,
     "metadata": {},
     "output_type": "execute_result"
    }
   ],
   "source": [
    "#Are TVs with higher ratings more expensive or do expensive TVs from well-known brands have higher ratings indicating premium quality?\n",
    "round(df.groupby('Brand')['Rating'].mean().sort_values(ascending=False),1)"
   ]
  },
  {
   "cell_type": "code",
   "execution_count": null,
   "id": "31f41e05-fbf1-4aa1-ae83-d39870d9fcf9",
   "metadata": {},
   "outputs": [],
   "source": []
  }
 ],
 "metadata": {
  "kernelspec": {
   "display_name": "Python 3 (ipykernel)",
   "language": "python",
   "name": "python3"
  },
  "language_info": {
   "codemirror_mode": {
    "name": "ipython",
    "version": 3
   },
   "file_extension": ".py",
   "mimetype": "text/x-python",
   "name": "python",
   "nbconvert_exporter": "python",
   "pygments_lexer": "ipython3",
   "version": "3.11.4"
  }
 },
 "nbformat": 4,
 "nbformat_minor": 5
}
